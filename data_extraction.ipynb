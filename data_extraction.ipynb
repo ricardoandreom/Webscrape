{
 "cells": [
  {
   "cell_type": "code",
   "execution_count": 2,
   "metadata": {
    "colab": {
     "base_uri": "https://localhost:8080/"
    },
    "id": "fxXXfVNMM5Rq",
    "outputId": "d96205a1-982f-47e1-fedd-f3a7e311bb10"
   },
   "outputs": [
    {
     "name": "stdout",
     "output_type": "stream",
     "text": [
      "Collecting pyjstat\n",
      "  Downloading pyjstat-2.4.0.tar.gz (798 kB)\n",
      "Requirement already satisfied: pandas in c:\\users\\b28658\\miniconda3\\lib\\site-packages (from pyjstat) (2.0.3)\n",
      "Requirement already satisfied: requests in c:\\users\\b28658\\miniconda3\\lib\\site-packages (from pyjstat) (2.32.3)\n",
      "Requirement already satisfied: python-dateutil>=2.8.2 in c:\\users\\b28658\\miniconda3\\lib\\site-packages (from pandas->pyjstat) (2.9.0.post0)\n",
      "Requirement already satisfied: tzdata>=2022.1 in c:\\users\\b28658\\miniconda3\\lib\\site-packages (from pandas->pyjstat) (2024.1)\n",
      "Requirement already satisfied: numpy>=1.20.3; python_version < \"3.10\" in c:\\users\\b28658\\miniconda3\\lib\\site-packages (from pandas->pyjstat) (1.20.3)\n",
      "Requirement already satisfied: pytz>=2020.1 in c:\\users\\b28658\\miniconda3\\lib\\site-packages (from pandas->pyjstat) (2024.1)\n",
      "Requirement already satisfied: charset-normalizer<4,>=2 in c:\\users\\b28658\\miniconda3\\lib\\site-packages (from requests->pyjstat) (3.3.2)\n",
      "Requirement already satisfied: urllib3<3,>=1.21.1 in c:\\users\\b28658\\miniconda3\\lib\\site-packages (from requests->pyjstat) (1.25.11)\n",
      "Requirement already satisfied: certifi>=2017.4.17 in c:\\users\\b28658\\miniconda3\\lib\\site-packages (from requests->pyjstat) (2024.7.4)\n",
      "Requirement already satisfied: idna<4,>=2.5 in c:\\users\\b28658\\miniconda3\\lib\\site-packages (from requests->pyjstat) (2.10)\n",
      "Requirement already satisfied: six>=1.5 in c:\\users\\b28658\\miniconda3\\lib\\site-packages (from python-dateutil>=2.8.2->pandas->pyjstat) (1.15.0)\n",
      "Building wheels for collected packages: pyjstat\n",
      "  Building wheel for pyjstat (setup.py): started\n",
      "  Building wheel for pyjstat (setup.py): finished with status 'done'\n",
      "  Created wheel for pyjstat: filename=pyjstat-2.4.0-py3-none-any.whl size=22766 sha256=0c31bcd0a07a10cf69a30f590976b463ab5a59a20ebdd1a38393d1b7c3ba2574\n",
      "  Stored in directory: c:\\users\\b28658\\appdata\\local\\pip\\cache\\wheels\\b3\\3c\\60\\09f5b3335b52ca134ca6fab28189ccde645313cfa029de108f\n",
      "Successfully built pyjstat\n",
      "Installing collected packages: pyjstat\n",
      "Successfully installed pyjstat-2.4.0\n"
     ]
    }
   ],
   "source": [
    "# run this only if you dont't have these libraries installed\n",
    "!pip install pyjstat\n",
    "!pip install ecbdata"
   ]
  },
  {
   "cell_type": "markdown",
   "metadata": {},
   "source": [
    "# Importing Libraries"
   ]
  },
  {
   "cell_type": "code",
   "execution_count": 10,
   "metadata": {
    "id": "A40wnu4ZKHMg"
   },
   "outputs": [],
   "source": [
    "import pandas as pd\n",
    "import numpy as np\n",
    "import requests\n",
    "\n",
    "import warnings\n",
    "warnings.filterwarnings(\"ignore\")\n",
    "\n",
    "from pyjstat import pyjstat\n",
    "from ecbdata import ecbdata\n",
    "\n",
    "import matplotlib.pyplot as plt\n",
    "\n",
    "%matplotlib inline\n"
   ]
  },
  {
   "cell_type": "markdown",
   "metadata": {},
   "source": [
    "# How to extract data from Banco de Portugal"
   ]
  },
  {
   "cell_type": "markdown",
   "metadata": {},
   "source": [
    "### Function to extraction data"
   ]
  },
  {
   "cell_type": "code",
   "execution_count": 11,
   "metadata": {
    "id": "cK6RWOWrNlCB"
   },
   "outputs": [],
   "source": [
    "def extract_data_from_bank_pt(series_id, variable_name):\n",
    "    \"\"\" \n",
    "    Function to extract data from BPSTAT API.\n",
    "\n",
    "    Arguments: series_id int\n",
    "             variable_name str.\n",
    "             If variable_name is None, variable_name is set to urls label.\n",
    "\n",
    "    Returns:   pandas dataframe with Date and variable_name columns\n",
    "    \"\"\"\n",
    "    \n",
    "    BPSTAT_API_URL=\"https://bpstat.bportugal.pt/data/v1\"\n",
    "\n",
    "    url = f\"{BPSTAT_API_URL}/series/?lang=EN&series_ids={series_id}\"\n",
    "    series_info = requests.get(url).json()[0]\n",
    "\n",
    "    domain_id = series_info[\"domain_ids\"][0]\n",
    "    dataset_id = series_info[\"dataset_id\"]\n",
    "\n",
    "    dataset_url = f\"{BPSTAT_API_URL}/domains/{domain_id}/datasets/{dataset_id}/?lang=EN&series_ids={series_id}\"\n",
    "    dataset = pyjstat.Dataset.read(dataset_url)\n",
    "    df = dataset.write('dataframe')\n",
    "\n",
    "    df['Date'] = pd.to_datetime(df['Date'])\n",
    "    if variable_name is None:\n",
    "        variable_name = series_info['label']\n",
    "\n",
    "    df = df.rename(columns={'value': variable_name})\n",
    "    df = df[['Date', variable_name]]\n",
    "\n",
    "    return df"
   ]
  },
  {
   "cell_type": "code",
   "execution_count": 12,
   "metadata": {},
   "outputs": [
    {
     "name": "stdout",
     "output_type": "stream",
     "text": [
      "Help on function extract_data_from_bank_pt in module __main__:\n",
      "\n",
      "extract_data_from_bank_pt(series_id, variable_name)\n",
      "    Function to extract data from BPSTAT API.\n",
      "    \n",
      "    Arguments: series_id int\n",
      "             variable_name str.\n",
      "             If variable_name is None, variable_name is set to urls label.\n",
      "    \n",
      "    Returns:   pandas dataframe with Date and variable_name columns\n",
      "\n"
     ]
    }
   ],
   "source": [
    "help(extract_data_from_bank_pt)"
   ]
  },
  {
   "cell_type": "markdown",
   "metadata": {},
   "source": [
    "### Example: \n",
    "\n",
    "https://bpstat.bportugal.pt/serie/12504591\n",
    "\n",
    "You can find the Key ECB interest rates - Deposit facility data on the specified URL. To extract this data, you will need the series key, which is 12504591. With this information, you can proceed to use the function as follows:"
   ]
  },
  {
   "cell_type": "code",
   "execution_count": 13,
   "metadata": {
    "id": "Iod4VmdhPY0A"
   },
   "outputs": [
    {
     "data": {
      "text/html": [
       "<div>\n",
       "<style scoped>\n",
       "    .dataframe tbody tr th:only-of-type {\n",
       "        vertical-align: middle;\n",
       "    }\n",
       "\n",
       "    .dataframe tbody tr th {\n",
       "        vertical-align: top;\n",
       "    }\n",
       "\n",
       "    .dataframe thead th {\n",
       "        text-align: right;\n",
       "    }\n",
       "</style>\n",
       "<table border=\"1\" class=\"dataframe\">\n",
       "  <thead>\n",
       "    <tr style=\"text-align: right;\">\n",
       "      <th></th>\n",
       "      <th>Date</th>\n",
       "      <th>Key ECB interest rates - Deposit facility</th>\n",
       "    </tr>\n",
       "  </thead>\n",
       "  <tbody>\n",
       "    <tr>\n",
       "      <th>0</th>\n",
       "      <td>1999-01-01</td>\n",
       "      <td>2.00</td>\n",
       "    </tr>\n",
       "    <tr>\n",
       "      <th>1</th>\n",
       "      <td>1999-01-04</td>\n",
       "      <td>2.75</td>\n",
       "    </tr>\n",
       "    <tr>\n",
       "      <th>2</th>\n",
       "      <td>1999-01-05</td>\n",
       "      <td>2.75</td>\n",
       "    </tr>\n",
       "    <tr>\n",
       "      <th>3</th>\n",
       "      <td>1999-01-06</td>\n",
       "      <td>2.75</td>\n",
       "    </tr>\n",
       "    <tr>\n",
       "      <th>4</th>\n",
       "      <td>1999-01-07</td>\n",
       "      <td>2.75</td>\n",
       "    </tr>\n",
       "  </tbody>\n",
       "</table>\n",
       "</div>"
      ],
      "text/plain": [
       "        Date  Key ECB interest rates - Deposit facility\n",
       "0 1999-01-01                                       2.00\n",
       "1 1999-01-04                                       2.75\n",
       "2 1999-01-05                                       2.75\n",
       "3 1999-01-06                                       2.75\n",
       "4 1999-01-07                                       2.75"
      ]
     },
     "execution_count": 13,
     "metadata": {},
     "output_type": "execute_result"
    }
   ],
   "source": [
    "# extracting data with original column names\n",
    "df = extract_data_from_bank_pt(12504591, None)\n",
    "df.head()"
   ]
  },
  {
   "cell_type": "code",
   "execution_count": 14,
   "metadata": {},
   "outputs": [
    {
     "data": {
      "text/html": [
       "<div>\n",
       "<style scoped>\n",
       "    .dataframe tbody tr th:only-of-type {\n",
       "        vertical-align: middle;\n",
       "    }\n",
       "\n",
       "    .dataframe tbody tr th {\n",
       "        vertical-align: top;\n",
       "    }\n",
       "\n",
       "    .dataframe thead th {\n",
       "        text-align: right;\n",
       "    }\n",
       "</style>\n",
       "<table border=\"1\" class=\"dataframe\">\n",
       "  <thead>\n",
       "    <tr style=\"text-align: right;\">\n",
       "      <th></th>\n",
       "      <th>Date</th>\n",
       "      <th>Deposit facility</th>\n",
       "    </tr>\n",
       "  </thead>\n",
       "  <tbody>\n",
       "    <tr>\n",
       "      <th>0</th>\n",
       "      <td>1999-01-01</td>\n",
       "      <td>2.00</td>\n",
       "    </tr>\n",
       "    <tr>\n",
       "      <th>1</th>\n",
       "      <td>1999-01-04</td>\n",
       "      <td>2.75</td>\n",
       "    </tr>\n",
       "    <tr>\n",
       "      <th>2</th>\n",
       "      <td>1999-01-05</td>\n",
       "      <td>2.75</td>\n",
       "    </tr>\n",
       "    <tr>\n",
       "      <th>3</th>\n",
       "      <td>1999-01-06</td>\n",
       "      <td>2.75</td>\n",
       "    </tr>\n",
       "    <tr>\n",
       "      <th>4</th>\n",
       "      <td>1999-01-07</td>\n",
       "      <td>2.75</td>\n",
       "    </tr>\n",
       "  </tbody>\n",
       "</table>\n",
       "</div>"
      ],
      "text/plain": [
       "        Date  Deposit facility\n",
       "0 1999-01-01              2.00\n",
       "1 1999-01-04              2.75\n",
       "2 1999-01-05              2.75\n",
       "3 1999-01-06              2.75\n",
       "4 1999-01-07              2.75"
      ]
     },
     "execution_count": 14,
     "metadata": {},
     "output_type": "execute_result"
    }
   ],
   "source": [
    "# extracting data but changing the values column name\n",
    "df = extract_data_from_bank_pt(12504591, 'Deposit facility')\n",
    "df.head()"
   ]
  },
  {
   "cell_type": "code",
   "execution_count": 15,
   "metadata": {},
   "outputs": [
    {
     "data": {
      "text/plain": [
       "Date                datetime64[ns]\n",
       "Deposit facility           float64\n",
       "dtype: object"
      ]
     },
     "execution_count": 15,
     "metadata": {},
     "output_type": "execute_result"
    }
   ],
   "source": [
    "df.dtypes"
   ]
  },
  {
   "cell_type": "markdown",
   "metadata": {},
   "source": [
    "# How to extract data from ECB"
   ]
  },
  {
   "cell_type": "markdown",
   "metadata": {},
   "source": [
    "The ECB URLs follow the below strcuture:\n",
    "https://data.ecb.europa.eu/data/datasets/XXXX/XXXX.AAA.BBB.CCC.....\n",
    "\n",
    "In order to extract the data from the ECB website, we need to grab 'XXXX.AAA.BBB.CCC.....'. and then run:"
   ]
  },
  {
   "cell_type": "code",
   "execution_count": 17,
   "metadata": {},
   "outputs": [],
   "source": [
    "extract_data_from_ecb('XXXX.AAA.BBB.CCC.....',\n",
    "                        start=start_date)"
   ]
  },
  {
   "cell_type": "markdown",
   "metadata": {},
   "source": [
    "start and end: It is possible to define a start and end date for which observations are to be returned. The format will vary depending on the frequency: YYYY for annual data (e.g. 2020); YYYY-S[1–2] for semi-annual data (e.g. 2020-S1); YYYY-Q[1–4] for quarterly data (e.g. 2020-Q1); YYYY-MM for monthly data (e.g. 2020–01); YYYY-W[01–53] for weekly data (e.g. 2020-W01); YYYY-MM-DD for daily data (e.g. 2020–01–01).\n",
    "\n",
    "With this information, you can proceed to extract data from the following URL:\n",
    "\n",
    "https://data.ecb.europa.eu/data/datasets/PFBR/PFBR.Q.U2.S.S129.L43C.T.4.W0.S1._T.EUR"
   ]
  },
  {
   "cell_type": "markdown",
   "metadata": {
    "id": "EaBhMtyNy7AL"
   },
   "source": [
    "start and end: It is possible to define a start and end date for which observations are to be returned. The format will vary depending on the frequency: YYYY for annual data (e.g. 2020); YYYY-S[1–2] for semi-annual data (e.g. 2020-S1); YYYY-Q[1–4] for quarterly data (e.g. 2020-Q1); YYYY-MM for monthly data (e.g. 2020–01); YYYY-W[01–53] for weekly data (e.g. 2020-W01); YYYY-MM-DD for daily data (e.g. 2020–01–01)."
   ]
  },
  {
   "cell_type": "markdown",
   "metadata": {},
   "source": [
    "### Function to extract data"
   ]
  },
  {
   "cell_type": "code",
   "execution_count": 18,
   "metadata": {},
   "outputs": [],
   "source": [
    "def extract_data_from_ecb(key, start_date='2020-01'):\n",
    "    \"\"\" \n",
    "    Function to extract data from ECB.\n",
    "\n",
    "    Arguments: key str: URL key\n",
    "               start_date str:  start date\n",
    "\n",
    "    Returns:   pandas dataframe with TIME_PERIOD and OBS_VALUE columns\n",
    "    \"\"\"\n",
    "    \n",
    "    df = ecbdata.get_series(key,\n",
    "                        start=start_date, detail='dataonly')\n",
    "    \n",
    "    df.TIME_PERIOD = pd.to_datetime(df.TIME_PERIOD)\n",
    "    df = df[['TIME_PERIOD', 'OBS_VALUE']]\n",
    "    \n",
    "    return df"
   ]
  },
  {
   "cell_type": "code",
   "execution_count": 19,
   "metadata": {},
   "outputs": [
    {
     "name": "stdout",
     "output_type": "stream",
     "text": [
      "Help on function extract_data_from_ecb in module __main__:\n",
      "\n",
      "extract_data_from_ecb(key, start)\n",
      "    Function to extract data from ECB.\n",
      "    \n",
      "    Arguments: key str: URL key\n",
      "         start str:  start date\n",
      "    \n",
      "    Returns:   pandas dataframe with TIME_PERIOD and OBS_VALUE columns\n",
      "\n"
     ]
    }
   ],
   "source": [
    "help(extract_data_from_ecb)"
   ]
  },
  {
   "cell_type": "code",
   "execution_count": 20,
   "metadata": {},
   "outputs": [
    {
     "data": {
      "text/html": [
       "<div>\n",
       "<style scoped>\n",
       "    .dataframe tbody tr th:only-of-type {\n",
       "        vertical-align: middle;\n",
       "    }\n",
       "\n",
       "    .dataframe tbody tr th {\n",
       "        vertical-align: top;\n",
       "    }\n",
       "\n",
       "    .dataframe thead th {\n",
       "        text-align: right;\n",
       "    }\n",
       "</style>\n",
       "<table border=\"1\" class=\"dataframe\">\n",
       "  <thead>\n",
       "    <tr style=\"text-align: right;\">\n",
       "      <th></th>\n",
       "      <th>TIME_PERIOD</th>\n",
       "      <th>OBS_VALUE</th>\n",
       "    </tr>\n",
       "  </thead>\n",
       "  <tbody>\n",
       "    <tr>\n",
       "      <th>0</th>\n",
       "      <td>2020-01-01</td>\n",
       "      <td>-2766.2620</td>\n",
       "    </tr>\n",
       "    <tr>\n",
       "      <th>1</th>\n",
       "      <td>2020-04-01</td>\n",
       "      <td>5378.6638</td>\n",
       "    </tr>\n",
       "    <tr>\n",
       "      <th>2</th>\n",
       "      <td>2020-07-01</td>\n",
       "      <td>12776.5149</td>\n",
       "    </tr>\n",
       "    <tr>\n",
       "      <th>3</th>\n",
       "      <td>2020-10-01</td>\n",
       "      <td>12280.0377</td>\n",
       "    </tr>\n",
       "    <tr>\n",
       "      <th>4</th>\n",
       "      <td>2021-01-01</td>\n",
       "      <td>6808.3700</td>\n",
       "    </tr>\n",
       "  </tbody>\n",
       "</table>\n",
       "</div>"
      ],
      "text/plain": [
       "  TIME_PERIOD   OBS_VALUE\n",
       "0  2020-01-01  -2766.2620\n",
       "1  2020-04-01   5378.6638\n",
       "2  2020-07-01  12776.5149\n",
       "3  2020-10-01  12280.0377\n",
       "4  2021-01-01   6808.3700"
      ]
     },
     "execution_count": 20,
     "metadata": {},
     "output_type": "execute_result"
    }
   ],
   "source": [
    "df = extract_data_from_ecb('PFBR.Q.U2.S.S129.L43C.T.4.W0.S1._T.EUR',\n",
    "                        start='2020-01')\n",
    "\n",
    "df.head()"
   ]
  },
  {
   "cell_type": "code",
   "execution_count": 21,
   "metadata": {},
   "outputs": [
    {
     "data": {
      "text/plain": [
       "TIME_PERIOD    datetime64[ns]\n",
       "OBS_VALUE             float64\n",
       "dtype: object"
      ]
     },
     "execution_count": 21,
     "metadata": {},
     "output_type": "execute_result"
    }
   ],
   "source": [
    "df.dtypes"
   ]
  },
  {
   "cell_type": "code",
   "execution_count": 57,
   "metadata": {
    "colab": {
     "base_uri": "https://localhost:8080/",
     "height": 500
    },
    "id": "Mx7w7YLowebM",
    "outputId": "a02f2dfe-0930-4fb0-fe32-24030add7033"
   },
   "outputs": [],
   "source": [
    "# plt.figure(figsize=(12,8))\n",
    "# plt.title('Pension entitlements - DC reported by Pension Funds in the Euro Area (transactions)')\n",
    "# dfx = df.set_index('TIME_PERIOD')\n",
    "# dfx.OBS_VALUE.plot()\n",
    "# plt.show()"
   ]
  },
  {
   "cell_type": "markdown",
   "metadata": {},
   "source": [
    "# Function to extract data from ALPHA VANTAGE"
   ]
  },
  {
   "cell_type": "code",
   "execution_count": 22,
   "metadata": {},
   "outputs": [],
   "source": [
    "# first you need an api_key for alphavantage, it's free\n",
    "api_key = 'EW4A338V8YGLZI3G' # insert your api key"
   ]
  },
  {
   "cell_type": "code",
   "execution_count": 23,
   "metadata": {},
   "outputs": [],
   "source": [
    "def extract_data_from_alphavantage(key):\n",
    "    \n",
    "    \"\"\"\n",
    "    Function to extract data (US related) from alphavantage website\n",
    "    \n",
    "    Parameters:\n",
    "        key: str\n",
    "        choose one string of the list ['UNEMPLOYMENT', 'CPI', REAL_GDP_PER_CAPITA', 'INFLATION']  \n",
    "    \n",
    "    Returns: pandas DataFrame with Date column e key column\n",
    "    \"\"\"\n",
    "    \n",
    "    url = f'https://www.alphavantage.co/query?function={key}&apikey={api_key}'\n",
    "    r = requests.get(url)\n",
    "    data = r.json()\n",
    "    \n",
    "    df = pd.DataFrame(data['data'])\n",
    "    df['date'] = pd.to_datetime(df['date'])\n",
    "    df['value'] = df['value'].astype(float)\n",
    "    df.columns = ['Date', key]\n",
    "    #df = df[df['Date'] >= '2020-01-01']\n",
    "    #df.set_index('Date', inplace=True)\n",
    "    \n",
    "    return df"
   ]
  },
  {
   "cell_type": "code",
   "execution_count": 24,
   "metadata": {
    "scrolled": true
   },
   "outputs": [
    {
     "name": "stdout",
     "output_type": "stream",
     "text": [
      "Help on function extract_data_from_alphavantage in module __main__:\n",
      "\n",
      "extract_data_from_alphavantage(key)\n",
      "    Function to extract data (US related) from alphavantage website\n",
      "    \n",
      "    Parameters:\n",
      "        key: str\n",
      "        choose one string of the list ['UNEMPLOYMENT', 'CPI', REAL_GDP_PER_CAPITA', 'INFLATION']  \n",
      "    \n",
      "    Returns: pandas DataFrame with Date column e key column\n",
      "\n"
     ]
    }
   ],
   "source": [
    "help(extract_data_from_alphavantage)"
   ]
  },
  {
   "cell_type": "markdown",
   "metadata": {},
   "source": [
    "# US Inflation"
   ]
  },
  {
   "cell_type": "code",
   "execution_count": 25,
   "metadata": {
    "scrolled": true
   },
   "outputs": [
    {
     "data": {
      "text/html": [
       "<div>\n",
       "<style scoped>\n",
       "    .dataframe tbody tr th:only-of-type {\n",
       "        vertical-align: middle;\n",
       "    }\n",
       "\n",
       "    .dataframe tbody tr th {\n",
       "        vertical-align: top;\n",
       "    }\n",
       "\n",
       "    .dataframe thead th {\n",
       "        text-align: right;\n",
       "    }\n",
       "</style>\n",
       "<table border=\"1\" class=\"dataframe\">\n",
       "  <thead>\n",
       "    <tr style=\"text-align: right;\">\n",
       "      <th></th>\n",
       "      <th>Date</th>\n",
       "      <th>INFLATION</th>\n",
       "    </tr>\n",
       "  </thead>\n",
       "  <tbody>\n",
       "    <tr>\n",
       "      <th>0</th>\n",
       "      <td>2023-01-01</td>\n",
       "      <td>4.116338</td>\n",
       "    </tr>\n",
       "    <tr>\n",
       "      <th>1</th>\n",
       "      <td>2022-01-01</td>\n",
       "      <td>8.002800</td>\n",
       "    </tr>\n",
       "    <tr>\n",
       "      <th>2</th>\n",
       "      <td>2021-01-01</td>\n",
       "      <td>4.697859</td>\n",
       "    </tr>\n",
       "    <tr>\n",
       "      <th>3</th>\n",
       "      <td>2020-01-01</td>\n",
       "      <td>1.233584</td>\n",
       "    </tr>\n",
       "    <tr>\n",
       "      <th>4</th>\n",
       "      <td>2019-01-01</td>\n",
       "      <td>1.812210</td>\n",
       "    </tr>\n",
       "  </tbody>\n",
       "</table>\n",
       "</div>"
      ],
      "text/plain": [
       "        Date  INFLATION\n",
       "0 2023-01-01   4.116338\n",
       "1 2022-01-01   8.002800\n",
       "2 2021-01-01   4.697859\n",
       "3 2020-01-01   1.233584\n",
       "4 2019-01-01   1.812210"
      ]
     },
     "execution_count": 25,
     "metadata": {},
     "output_type": "execute_result"
    }
   ],
   "source": [
    "df = extract_data_from_alphavantage('INFLATION')\n",
    "df.head()"
   ]
  },
  {
   "cell_type": "markdown",
   "metadata": {},
   "source": [
    "# FX rates "
   ]
  },
  {
   "cell_type": "code",
   "execution_count": 26,
   "metadata": {},
   "outputs": [],
   "source": [
    "def get_fx_data(api_key, from_currency, to_currency, start_date='1900-01-01'):\n",
    "    \"\"\"\n",
    "    Function to extract FX rates\n",
    "    \n",
    "    Parameters: api_key: str alpha vantage key\n",
    "                from_currency: str\n",
    "                to_currency: str\n",
    "                start_date: str YY-MM-DD, if not defined it will retrieve since the beginning\n",
    "    \n",
    "    Returns a pandas DataFrame with Date and FX rates columns\n",
    "    \"\"\"\n",
    "    \n",
    "    url = f'https://www.alphavantage.co/query?function=FX_DAILY&from_symbol={from_currency}&to_symbol={to_currency}&outputsize=full&apikey={api_key}'\n",
    "    response = requests.get(url)\n",
    "    data = response.json()\n",
    "    \n",
    "    time_series = data['Time Series FX (Daily)']\n",
    "    df = pd.DataFrame.from_dict(time_series, orient='index')\n",
    "    df.index = pd.to_datetime(df.index)\n",
    "    df = df.sort_index()\n",
    "    df = df.reset_index()\n",
    "    \n",
    "    df[df.columns[1:]] = df[df.columns[1:]].astype(float)\n",
    "    df = df.rename(columns={'index' : 'Date'})\n",
    "    \n",
    "    df = df[df['Date'] >= start_date]\n",
    "    \n",
    "    return df"
   ]
  },
  {
   "cell_type": "code",
   "execution_count": 27,
   "metadata": {},
   "outputs": [
    {
     "name": "stdout",
     "output_type": "stream",
     "text": [
      "Help on function get_fx_data in module __main__:\n",
      "\n",
      "get_fx_data(api_key, from_currency, to_currency, start_date='1900-01-01')\n",
      "    Function to extract FX rates\n",
      "    \n",
      "    Parameters: api_key: str alpha vantage key\n",
      "                from_currency: str\n",
      "                to_currency: str\n",
      "                start_date: str YY-MM-DD, if not defined it will retrieve since the beginning\n",
      "    \n",
      "    Returns a pandas DataFrame with Date and FX rates columns\n",
      "\n"
     ]
    }
   ],
   "source": [
    "help(get_fx_data)"
   ]
  },
  {
   "cell_type": "code",
   "execution_count": 28,
   "metadata": {
    "scrolled": true
   },
   "outputs": [
    {
     "data": {
      "text/html": [
       "<div>\n",
       "<style scoped>\n",
       "    .dataframe tbody tr th:only-of-type {\n",
       "        vertical-align: middle;\n",
       "    }\n",
       "\n",
       "    .dataframe tbody tr th {\n",
       "        vertical-align: top;\n",
       "    }\n",
       "\n",
       "    .dataframe thead th {\n",
       "        text-align: right;\n",
       "    }\n",
       "</style>\n",
       "<table border=\"1\" class=\"dataframe\">\n",
       "  <thead>\n",
       "    <tr style=\"text-align: right;\">\n",
       "      <th></th>\n",
       "      <th>Date</th>\n",
       "      <th>1. open</th>\n",
       "      <th>2. high</th>\n",
       "      <th>3. low</th>\n",
       "      <th>4. close</th>\n",
       "    </tr>\n",
       "  </thead>\n",
       "  <tbody>\n",
       "    <tr>\n",
       "      <th>1416</th>\n",
       "      <td>2020-01-01</td>\n",
       "      <td>1.12189</td>\n",
       "      <td>1.12271</td>\n",
       "      <td>1.11668</td>\n",
       "      <td>1.12208</td>\n",
       "    </tr>\n",
       "    <tr>\n",
       "      <th>1417</th>\n",
       "      <td>2020-01-02</td>\n",
       "      <td>1.11708</td>\n",
       "      <td>1.11807</td>\n",
       "      <td>1.11257</td>\n",
       "      <td>1.11714</td>\n",
       "    </tr>\n",
       "    <tr>\n",
       "      <th>1418</th>\n",
       "      <td>2020-01-05</td>\n",
       "      <td>1.11625</td>\n",
       "      <td>1.12082</td>\n",
       "      <td>1.11581</td>\n",
       "      <td>1.11620</td>\n",
       "    </tr>\n",
       "    <tr>\n",
       "      <th>1419</th>\n",
       "      <td>2020-01-06</td>\n",
       "      <td>1.11958</td>\n",
       "      <td>1.11995</td>\n",
       "      <td>1.11349</td>\n",
       "      <td>1.11980</td>\n",
       "    </tr>\n",
       "    <tr>\n",
       "      <th>1420</th>\n",
       "      <td>2020-01-07</td>\n",
       "      <td>1.11557</td>\n",
       "      <td>1.11652</td>\n",
       "      <td>1.11109</td>\n",
       "      <td>1.11547</td>\n",
       "    </tr>\n",
       "  </tbody>\n",
       "</table>\n",
       "</div>"
      ],
      "text/plain": [
       "           Date  1. open  2. high   3. low  4. close\n",
       "1416 2020-01-01  1.12189  1.12271  1.11668   1.12208\n",
       "1417 2020-01-02  1.11708  1.11807  1.11257   1.11714\n",
       "1418 2020-01-05  1.11625  1.12082  1.11581   1.11620\n",
       "1419 2020-01-06  1.11958  1.11995  1.11349   1.11980\n",
       "1420 2020-01-07  1.11557  1.11652  1.11109   1.11547"
      ]
     },
     "execution_count": 28,
     "metadata": {},
     "output_type": "execute_result"
    }
   ],
   "source": [
    "# fx rates extraction - EUR to USD\n",
    "fx_data = get_fx_data(api_key, 'EUR', 'USD','2020-01-01')\n",
    "fx_data.head()"
   ]
  },
  {
   "cell_type": "code",
   "execution_count": 29,
   "metadata": {},
   "outputs": [
    {
     "data": {
      "text/plain": [
       "Date        datetime64[ns]\n",
       "1. open            float64\n",
       "2. high            float64\n",
       "3. low             float64\n",
       "4. close           float64\n",
       "dtype: object"
      ]
     },
     "execution_count": 29,
     "metadata": {},
     "output_type": "execute_result"
    }
   ],
   "source": [
    "fx_data.dtypes"
   ]
  }
 ],
 "metadata": {
  "colab": {
   "provenance": []
  },
  "kernelspec": {
   "display_name": "Python 3",
   "language": "python",
   "name": "python3"
  },
  "language_info": {
   "codemirror_mode": {
    "name": "ipython",
    "version": 3
   },
   "file_extension": ".py",
   "mimetype": "text/x-python",
   "name": "python",
   "nbconvert_exporter": "python",
   "pygments_lexer": "ipython3",
   "version": "3.8.5"
  }
 },
 "nbformat": 4,
 "nbformat_minor": 1
}
