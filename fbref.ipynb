{
  "cells": [
    {
      "cell_type": "markdown",
      "id": "c06ee814",
      "metadata": {
        "id": "c06ee814"
      },
      "source": [
        "# FBREF DATA GATHERING"
      ]
    },
    {
      "cell_type": "markdown",
      "id": "917d387a",
      "metadata": {
        "id": "917d387a"
      },
      "source": [
        "# LIBRARIES"
      ]
    },
    {
      "cell_type": "code",
      "execution_count": 196,
      "id": "b4ceb1aa",
      "metadata": {
        "id": "b4ceb1aa"
      },
      "outputs": [],
      "source": [
        "import pandas as pd\n",
        "import warnings\n",
        "\n",
        "warnings.filterwarnings('ignore')"
      ]
    },
    {
      "cell_type": "code",
      "execution_count": 197,
      "id": "9cc00395",
      "metadata": {
        "id": "9cc00395"
      },
      "outputs": [],
      "source": [
        "pd.set_option('display.max_columns', None)\n",
        "# pd.set_option('display.max_rows', None)"
      ]
    },
    {
      "cell_type": "markdown",
      "id": "620e48ca",
      "metadata": {
        "id": "620e48ca"
      },
      "source": [
        "# BASE URLS - PLAYER DATA BIG 5 LEAGUES"
      ]
    },
    {
      "cell_type": "code",
      "execution_count": 198,
      "id": "da0d79aa",
      "metadata": {
        "id": "da0d79aa"
      },
      "outputs": [],
      "source": [
        "lg_id = \"Big5\"\n",
        "lg_str = \"Big-5-European\""
      ]
    },
    {
      "cell_type": "code",
      "execution_count": 199,
      "id": "fe762671",
      "metadata": {
        "id": "fe762671"
      },
      "outputs": [],
      "source": [
        "standard = f\"https://fbref.com/en/comps/{lg_id}/stats/players/{lg_str}-Stats\"\n",
        "shooting = f\"https://fbref.com/en/comps/{lg_id}/shooting/players/{lg_str}-Stats\"\n",
        "passing = f\"https://fbref.com/en/comps/{lg_id}/passing/players/{lg_str}-Stats\"\n",
        "pass_types = f\"https://fbref.com/en/comps/{lg_id}/passing_types/players/{lg_str}-Stats\"\n",
        "gsca = f\"https://fbref.com/en/comps/{lg_id}/gca/players/{lg_str}-Stats\"\n",
        "defense = f\"https://fbref.com/en/comps/{lg_id}/defense/players/{lg_str}-Stats\"\n",
        "misc = f\"https://fbref.com/en/comps/{lg_id}/misc/players/{lg_str}-Stats\""
      ]
    },
    {
      "cell_type": "code",
      "source": [
        "standard"
      ],
      "metadata": {
        "colab": {
          "base_uri": "https://localhost:8080/",
          "height": 36
        },
        "id": "KverbzrBuyLT",
        "outputId": "9bb8c5de-b035-46f4-dd5a-c225f7aaed4c"
      },
      "id": "KverbzrBuyLT",
      "execution_count": 207,
      "outputs": [
        {
          "output_type": "execute_result",
          "data": {
            "text/plain": [
              "'https://fbref.com/en/comps/Big5/stats/players/Big-5-European-Stats'"
            ],
            "application/vnd.google.colaboratory.intrinsic+json": {
              "type": "string"
            }
          },
          "metadata": {},
          "execution_count": 207
        }
      ]
    },
    {
      "cell_type": "markdown",
      "id": "4af4379a",
      "metadata": {
        "id": "4af4379a"
      },
      "source": [
        "# RENAME DICTS"
      ]
    },
    {
      "cell_type": "code",
      "execution_count": 200,
      "id": "2703ad31",
      "metadata": {
        "id": "2703ad31"
      },
      "outputs": [],
      "source": [
        "\n",
        "base_rename_columns_dict = {\n",
        "    'Unnamed: 0_level_0_Rk': 'Rk',\n",
        "    'Unnamed: 1_level_0_Player': 'Player',\n",
        "    'Unnamed: 2_level_0_Nation': 'Nation',\n",
        "    'Unnamed: 3_level_0_Pos': 'Pos',\n",
        "    'Unnamed: 4_level_0_Squad': 'Squad',\n",
        "    'Unnamed: 5_level_0_Comp': 'Comp',\n",
        "    'Unnamed: 6_level_0_Age': 'Age',\n",
        "    'Unnamed: 7_level_0_Born': 'Born',\n",
        "    'Unnamed: 8_level_0_90s': '90s',\n",
        "    'Unnamed: 25_level_0_Matches': 'Matches'}\n",
        "\n",
        "standard_rename_columns_dict = {\n",
        "    'Playing Time_MP': 'Playing Time_MP',\n",
        "    'Playing Time_Starts': 'Playing Time_Starts',\n",
        "    'Playing Time_Min': 'Playing Time_Min',\n",
        "    'Playing Time_90s': 'Playing Time_90s',\n",
        "    'Performance_Gls': 'Goals',\n",
        "    'Performance_Ast': 'Assists',\n",
        "    'Performance_G+A': 'Goals + Assists',\n",
        "    'Performance_G-PK': 'Goals - PK',\n",
        "    'Performance_PK': 'Penalty goals',\n",
        "    'Performance_PKatt': 'Penalties attempted',\n",
        "    'Performance_CrdY': 'Performance_CrdY',\n",
        "    'Performance_CrdR': 'Performance_CrdR',\n",
        "    'Expected_xG': 'xG',\n",
        "    'Expected_npxG': 'npxG',\n",
        "    'Expected_xAG': 'xAG',\n",
        "    'Expected_npxG+xAG': 'npxG+xAG',\n",
        "    'Progression_PrgC': 'Progressive carries',\n",
        "    'Progression_PrgP': 'Progressive passes',\n",
        "    'Progression_PrgR': 'Progressive R?',\n",
        "    'Unnamed: 37_level_0_Matches': 'Matches',\n",
        "}\n",
        "\n",
        "\n",
        "shooting_rename_columns_dict = {\n",
        "    'Unnamed: 8_level_0_90s': '90s',\n",
        "    'Standard_Gls': 'Goals',\n",
        "    'Standard_Sh': 'Shots',\n",
        "    'Standard_SoT': 'Shots on target',\n",
        "    'Standard_SoT%': 'Shots on target%',\n",
        "    'Standard_Sh/90': 'Shots p90',\n",
        "    'Standard_SoT/90': 'Shots on target p90',\n",
        "    'Standard_G/Sh': 'Goals per shot',\n",
        "    'Standard_G/SoT': 'Goals per shot on target',\n",
        "    'Standard_Dist': 'Shot distance',\n",
        "    'Standard_FK': 'Standard_FK',\n",
        "    'Standard_PK': 'Standard_PK',\n",
        "    'Standard_PKatt': 'Penalties attempted',\n",
        "    'Expected_xG': 'xG',\n",
        "    'Expected_npxG': 'npxG',\n",
        "    'Expected_npxG/Sh': 'npxG/Sh',\n",
        "    'Expected_G-xG': 'G-xG',\n",
        "    'Expected_np:G-xG': 'npG-npxG',\n",
        "    'Unnamed: 26_level_0_Matches': 'Matches'\n",
        "}\n",
        "\n",
        "\n",
        "passing_rename_columns_dict = {\n",
        "    'Unnamed: 8_level_0_90s': '90s',\n",
        "    'Total_Cmp': 'Passes completed',\n",
        "    'Total_Att': 'Passes attempted',\n",
        "    'Total_Cmp%': 'Pass completion%',\n",
        "    'Total_TotDist': 'Passes total distance',\n",
        "    'Total_PrgDist': 'Passes progressive distance',\n",
        "    'Short_Cmp': 'Short passes completion',\n",
        "    'Short_Att': 'Short passes attempted',\n",
        "    'Short_Cmp%': 'Short passes completion%',\n",
        "    'Medium_Cmp': 'Medium passes completion',\n",
        "    'Medium_Att': 'Medium passes attempted',\n",
        "    'Medium_Cmp%': 'Medium passes completion%',\n",
        "    'Long_Cmp': 'Long passes completed',\n",
        "    'Long_Att': 'Long passes attempted',\n",
        "    'Long_Cmp%': 'Long passes completion%',\n",
        "    'Unnamed: 23_level_0_Ast': 'Assists',\n",
        "    'Unnamed: 24_level_0_xAG': 'xAG',\n",
        "    'Expected_xA': 'xA',\n",
        "    'Expected_A-xAG': 'xA-xAG',\n",
        "    'Unnamed: 27_level_0_KP': 'Key passes',\n",
        "    'Unnamed: 28_level_0_1/3': 'P1/3',\n",
        "    'Unnamed: 29_level_0_PPA': 'PPA',\n",
        "    'Unnamed: 30_level_0_CrsPA': 'CrsPA',\n",
        "    'Unnamed: 31_level_0_PrgP': 'PrgP',\n",
        "    'Unnamed: 32_level_0_Matches': 'Matches'\n",
        "}\n",
        "\n",
        "pass_types_rename_columns_dict = {\n",
        "    'Unnamed: 9_level_0_Att': 'Att',\n",
        "    'Pass Types_Live': 'Pass Types_Live',\n",
        "    'Pass Types_Dead': 'Pass Types_Dead',\n",
        "    'Pass Types_FK': 'Pass Types_FK',\n",
        "    'Pass Types_TB': 'Pass Types_TB',\n",
        "    'Pass Types_Sw': 'Pass Types_Sw',\n",
        "    'Pass Types_Crs': 'Pass Types_Crs',\n",
        "    'Pass Types_TI': 'Pass Types_TI',\n",
        "    'Pass Types_CK': 'Pass Types_CK',\n",
        "    'Corner Kicks_In': 'Corner Kicks_In',\n",
        "    'Corner Kicks_Out': 'Corner Kicks_Out',\n",
        "    'Corner Kicks_Str': 'Corner Kicks_Str',\n",
        "    'Outcomes_Cmp': 'Outcomes_Cmp',\n",
        "    'Outcomes_Off': 'Outcomes_Off',\n",
        "    'Outcomes_Blocks': 'Outcomes_Blocks',\n",
        "    'Unnamed: 24_level_0_Matches': 'Matches'\n",
        "}\n",
        "\n",
        "gsca_rename_columns_dict = {\n",
        "    'Unnamed: 8_level_0_90s': '90s',\n",
        "    'SCA_SCA': 'SCA_SCA',\n",
        "    'SCA_SCA90': 'SCA_SCA90',\n",
        "    'SCA Types_PassLive': 'SCA Types_PassLive',\n",
        "    'SCA Types_PassDead':  'SCA Types_PassDead',\n",
        "    'SCA Types_TO': 'SCA Types_TO',\n",
        "    'SCA Types_Sh': 'SCA Types_Sh',\n",
        "    'SCA Types_Fld': 'SCA Types_Fld',\n",
        "    'SCA Types_Def': 'SCA Types_Def',\n",
        "    'GCA_GCA': 'GCA_GCA',\n",
        "    'GCA_GCA90': 'GCA_GCA90',\n",
        "    'GCA Types_PassLive': 'GCA Types_PassLive',\n",
        "    'GCA Types_PassDead': 'GCA Types_PassDead',\n",
        "    'GCA Types_TO': 'GCA Types_TO',\n",
        "    'GCA Types_Sh': 'GCA Types_Sh',\n",
        "    'GCA Types_Fld': 'GCA Types_Fld',\n",
        "    'GCA Types_Def': 'GCA Types_Def',\n",
        "    'Unnamed: 25_level_0_Matches': 'Matches'\n",
        "}\n",
        "\n",
        "defense_rename_columns_dict = {\n",
        "    'Unnamed: 21_level_0_Int': 'Interceptions',\n",
        "    'Unnamed: 22_level_0_Tkl+Int': 'Tkl+Int',\n",
        "    'Unnamed: 23_level_0_Clr': 'Clearances',\n",
        "    'Unnamed: 24_level_0_Err': 'Errors',\n",
        "}\n",
        "\n",
        "\n",
        "misc_rename_columns_dict = {\n",
        "    'Unnamed: 8_level_0_90s': '90s',\n",
        "    'Performance_CrdY': 'Performance_CrdY',\n",
        "    'Performance_CrdR': 'Performance_CrdR',\n",
        "    'Performance_2CrdY': 'Performance_2CrdY',\n",
        "    'Performance_Fls': 'Performance_Fls',\n",
        "    'Performance_Fld':  'Performance_Fld',\n",
        "    'Performance_Off': 'Performance_Off',\n",
        "    'Performance_Crs': 'Performance_Crs',\n",
        "    'Performance_Int': 'Performance_Int',\n",
        "    'Performance_TklW': 'Performance_TklW',\n",
        "    'Performance_PKwon': 'Performance_PKwon',\n",
        "    'Performance_PKcon': 'Performance_PKcon',\n",
        "    'Performance_OG': 'Performance_OG',\n",
        "    'Performance_Recov': 'Recoveries',\n",
        "    'Aerial Duels_Won': 'Aerial Duels Won',\n",
        "    'Aerial Duels_Lost': 'Aerial Duels Lost',\n",
        "    'Aerial Duels_Won%': 'Aerial Duels_Won%',\n",
        "    'Unnamed: 25_level_0_Matches': 'Matches'\n",
        "}"
      ]
    },
    {
      "cell_type": "markdown",
      "id": "2f716a14",
      "metadata": {
        "id": "2f716a14"
      },
      "source": [
        "# FBREF STRUCTURE DICT"
      ]
    },
    {
      "cell_type": "code",
      "execution_count": 201,
      "id": "b4412369",
      "metadata": {
        "id": "b4412369"
      },
      "outputs": [],
      "source": [
        "structure_dict = {\n",
        "\n",
        "    'standard': {\n",
        "        'url': standard,\n",
        "        'rename_dict': standard_rename_columns_dict\n",
        "                },\n",
        "    'shooting': {\n",
        "        'url': shooting,\n",
        "        'rename_dict': shooting_rename_columns_dict\n",
        "            },\n",
        "    'passing': {\n",
        "        'url': passing,\n",
        "        'rename_dict': passing_rename_columns_dict\n",
        "            },\n",
        "    'pass_types': {\n",
        "        'url': pass_types,\n",
        "        'rename_dict': pass_types_rename_columns_dict\n",
        "            },\n",
        "    'gsca': {\n",
        "        'url': gsca,\n",
        "        'rename_dict': gsca_rename_columns_dict\n",
        "            },\n",
        "    'defense': {\n",
        "        'url': defense,\n",
        "        'rename_dict': defense_rename_columns_dict\n",
        "            },\n",
        "    'misc': {\n",
        "        'url': misc,\n",
        "        'rename_dict': misc_rename_columns_dict\n",
        "            }\n",
        "}"
      ]
    },
    {
      "cell_type": "markdown",
      "id": "9b1b2764",
      "metadata": {
        "id": "9b1b2764"
      },
      "source": [
        "# FUNCTIONS"
      ]
    },
    {
      "cell_type": "code",
      "execution_count": 202,
      "id": "fa4ab658",
      "metadata": {
        "id": "fa4ab658"
      },
      "outputs": [],
      "source": [
        "def read_data_from_fbref(stat_type):\n",
        "    df = pd.read_html(stat_type)[0]\n",
        "    df.columns = ['_'.join(col).strip() for col in df.columns.values]\n",
        "    #df = df[df.columns[:-1]]\n",
        "    return df"
      ]
    },
    {
      "cell_type": "code",
      "execution_count": 203,
      "id": "9a905f3d",
      "metadata": {
        "id": "9a905f3d"
      },
      "outputs": [],
      "source": [
        "def transform_data(df, rename_dict):\n",
        "\n",
        "    df = df.rename(columns=base_rename_columns_dict)\n",
        "    df = df.rename(columns=rename_dict)\n",
        "\n",
        "    if 'Matches' in df.columns:\n",
        "        df = df.drop(columns=['Matches'])\n",
        "    if 'Nation' in df.columns:\n",
        "        df['Nation'] = df['Nation'].fillna('Unknown').astype(str)\n",
        "        df['Nation'] = df['Nation'].apply(lambda x: x.split(' ', 1)[-1] if ' ' in x else x)\n",
        "    if 'Comp' in df.columns:\n",
        "        df['Comp'] = df['Comp'].apply(lambda x: x.split(' ', 1)[-1] if ' ' in x else x)\n",
        "\n",
        "    df = df[df.columns[:-1]]\n",
        "\n",
        "    df = df[df['Player'] != 'Player']\n",
        "\n",
        "    df = df.drop_duplicates(subset=['Player', 'Age', 'Nation'], keep='last')\n",
        "\n",
        "    df[df.columns[7:]] = df[df.columns[7:]].astype(float).apply(pd.to_numeric, errors='coerce')\n",
        "\n",
        "    return df"
      ]
    },
    {
      "cell_type": "code",
      "execution_count": 204,
      "id": "bc8a3f5f",
      "metadata": {
        "id": "bc8a3f5f"
      },
      "outputs": [],
      "source": [
        "def create_stats_data(stats_type='standard'):\n",
        "\n",
        "    \"\"\"\n",
        "    Options for stats_type parameter:\n",
        "\n",
        "    'standard', 'shooting', 'passing',\n",
        "    'pass_types', 'gsca', 'defense',\n",
        "    'poss', 'misc'\n",
        "    \"\"\"\n",
        "\n",
        "    url = structure_dict[stats_type]['url']\n",
        "\n",
        "    rename_columns_dict = structure_dict[stats_type]['rename_dict']\n",
        "\n",
        "    df = transform_data(read_data_from_fbref(url), rename_columns_dict)\n",
        "\n",
        "    return df"
      ]
    },
    {
      "cell_type": "markdown",
      "id": "6b9a51d8",
      "metadata": {
        "id": "6b9a51d8"
      },
      "source": [
        "# Example of extraction of defense player data for Big5 data"
      ]
    },
    {
      "cell_type": "code",
      "execution_count": 206,
      "id": "b7f9813e",
      "metadata": {
        "id": "b7f9813e"
      },
      "outputs": [],
      "source": [
        "std = create_stats_data('standard').to_excel('standard.xlsx', index=False)\n",
        "sh = create_stats_data('shooting').to_excel('shooting.xlsx', index=False)\n",
        "pass_ = create_stats_data('passing').to_excel('passing.xlsx', index=False)\n",
        "pt = create_stats_data('pass_types').to_excel('pass_types.xlsx', index=False)\n",
        "def_ = create_stats_data('defense').to_excel('defense.xlsx', index=False)\n",
        "miscc = create_stats_data('misc').to_excel('misc.xlsx', index=False)\n",
        "gs = create_stats_data('gsca').to_excel('gsca.xlsx', index=False)"
      ]
    },
    {
      "cell_type": "markdown",
      "id": "7136cca2",
      "metadata": {
        "id": "7136cca2"
      },
      "source": [
        "# Next steps: (MERGE DATA AND SELECT USEFUL COLUMNS)\n",
        "\n",
        "List of columns:\n",
        "\n",
        "  -\n",
        "\n",
        "  -\n",
        "  \n",
        "  -\n"
      ]
    },
    {
      "cell_type": "code",
      "source": [],
      "metadata": {
        "id": "CVIarXr_fUys"
      },
      "id": "CVIarXr_fUys",
      "execution_count": null,
      "outputs": []
    },
    {
      "cell_type": "code",
      "source": [],
      "metadata": {
        "id": "9MGEFyJtgnQ6"
      },
      "id": "9MGEFyJtgnQ6",
      "execution_count": null,
      "outputs": []
    }
  ],
  "metadata": {
    "kernelspec": {
      "display_name": "Python 3",
      "language": "python",
      "name": "python3"
    },
    "language_info": {
      "codemirror_mode": {
        "name": "ipython",
        "version": 3
      },
      "file_extension": ".py",
      "mimetype": "text/x-python",
      "name": "python",
      "nbconvert_exporter": "python",
      "pygments_lexer": "ipython3",
      "version": "3.8.5"
    },
    "colab": {
      "provenance": [],
      "collapsed_sections": [
        "917d387a",
        "2f716a14",
        "9b1b2764"
      ]
    }
  },
  "nbformat": 4,
  "nbformat_minor": 5
}