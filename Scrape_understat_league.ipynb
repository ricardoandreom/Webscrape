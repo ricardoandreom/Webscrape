{
  "nbformat": 4,
  "nbformat_minor": 0,
  "metadata": {
    "colab": {
      "provenance": []
    },
    "kernelspec": {
      "name": "python3",
      "display_name": "Python 3"
    },
    "language_info": {
      "name": "python"
    }
  },
  "cells": [
    {
      "cell_type": "code",
      "execution_count": 1,
      "metadata": {
        "id": "gUjcUsirkPqt"
      },
      "outputs": [],
      "source": [
        "import requests\n",
        "from bs4 import BeautifulSoup\n",
        "import json\n",
        "import pandas as pd\n",
        "\n",
        "\n",
        "understat_ids = range(16376, 16755+1)\n",
        "match_data = []\n",
        "\n",
        "for id in understat_ids:\n",
        "    base_urls = f'https://understat.com/match/{id}'\n",
        "#Use requests to get the webpage and BeautifulSoup to parse the page\n",
        "    res = requests.get(base_urls)\n",
        "    soup = BeautifulSoup(res.content, 'lxml')\n",
        "    scripts = soup.find_all('script')\n",
        "#get only the shotsData\n",
        "    strings = scripts[1].string\n",
        "\n",
        "# strip unnecessary symbols and get only JSON data\n",
        "    ind_start = strings.index(\"('\")+2\n",
        "    ind_end = strings.index(\"')\")\n",
        "    json_data = strings[ind_start:ind_end]\n",
        "    json_data = json_data.encode('utf8').decode('unicode_escape')\n",
        "\n",
        "#convert string to json format\n",
        "    data = json.loads(json_data)\n",
        "#iterate JSON and extend match_data with a list of dicts\n",
        "    match_data.extend([d for k in data.keys() for d in data[k]])\n",
        "\n",
        "global epl\n",
        "epl = pd.DataFrame(match_data)\n",
        "\n",
        "\n",
        "epl['fixtureName'] = epl['h_team'] + ' ' + 'v' + ' ' + epl['a_team']\n",
        "\n",
        "epl.to_csv('Understat_EPL2122.csv',index=False)"
      ]
    }
  ]
}