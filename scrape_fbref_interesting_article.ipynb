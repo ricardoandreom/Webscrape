{
  "nbformat": 4,
  "nbformat_minor": 0,
  "metadata": {
    "colab": {
      "provenance": []
    },
    "kernelspec": {
      "name": "python3",
      "display_name": "Python 3"
    },
    "language_info": {
      "name": "python"
    }
  },
  "cells": [
    {
      "cell_type": "code",
      "execution_count": 1,
      "metadata": {
        "id": "TFzM689AC0pq"
      },
      "outputs": [],
      "source": [
        "import pandas as pd\n",
        "df = pd.read_html('https://fbref.com/en/comps/12/La-Liga-Stats')"
      ]
    },
    {
      "cell_type": "code",
      "source": [
        "df"
      ],
      "metadata": {
        "id": "sgBAaLY1C6O-"
      },
      "execution_count": null,
      "outputs": []
    },
    {
      "cell_type": "code",
      "source": [
        "for idx,table in enumerate(df):\n",
        " print('***************************')\n",
        " print(idx)\n",
        " print(table)"
      ],
      "metadata": {
        "id": "Ht30fVM6DG1z"
      },
      "execution_count": null,
      "outputs": []
    },
    {
      "cell_type": "code",
      "source": [
        "df[0]"
      ],
      "metadata": {
        "id": "I-fRyYI7DVvI"
      },
      "execution_count": null,
      "outputs": []
    },
    {
      "cell_type": "code",
      "source": [
        "stats = pd.DataFrame(df[0])\n",
        "stats"
      ],
      "metadata": {
        "id": "3VDRzft6DkCY"
      },
      "execution_count": 11,
      "outputs": []
    },
    {
      "cell_type": "code",
      "source": [
        "# example\n",
        "stats[\"Attendance\"]"
      ],
      "metadata": {
        "id": "lCUGg-AZEXOx"
      },
      "execution_count": null,
      "outputs": []
    },
    {
      "cell_type": "code",
      "source": [
        "shooting = pd.read_html('https://fbref.com/en/comps/12/shooting/La-Liga-Stats')"
      ],
      "metadata": {
        "id": "P0bjcCLdG0xO"
      },
      "execution_count": 68,
      "outputs": []
    },
    {
      "cell_type": "code",
      "source": [
        "for idx,table in enumerate(shooting):\n",
        "    print(\"********************\")\n",
        "    print(idx)\n",
        "    print(table)"
      ],
      "metadata": {
        "id": "PaU22Re1G5_q"
      },
      "execution_count": null,
      "outputs": []
    },
    {
      "cell_type": "code",
      "source": [
        "shooting = pd.DataFrame(shooting[0])\n",
        "shooting"
      ],
      "metadata": {
        "id": "PmQl73hqHB9T"
      },
      "execution_count": null,
      "outputs": []
    },
    {
      "cell_type": "code",
      "source": [
        "shooting.columns = shooting.columns.droplevel()"
      ],
      "metadata": {
        "id": "xiaNdlpbI49v"
      },
      "execution_count": 72,
      "outputs": []
    },
    {
      "cell_type": "code",
      "source": [
        "shooting.columns"
      ],
      "metadata": {
        "colab": {
          "base_uri": "https://localhost:8080/"
        },
        "id": "GvJLNzhfHfvf",
        "outputId": "7236905b-66ba-449b-e320-cd3a490860a2"
      },
      "execution_count": 73,
      "outputs": [
        {
          "output_type": "execute_result",
          "data": {
            "text/plain": [
              "Index(['Squad', '# Pl', '90s', 'Gls', 'Sh', 'SoT', 'SoT%', 'Sh/90', 'SoT/90',\n",
              "       'G/Sh', 'G/SoT', 'Dist', 'FK', 'PK', 'PKatt', 'xG', 'npxG', 'npxG/Sh',\n",
              "       'G-xG', 'np:G-xG'],\n",
              "      dtype='object')"
            ]
          },
          "metadata": {},
          "execution_count": 73
        }
      ]
    },
    {
      "cell_type": "code",
      "source": [
        "shooting['Squad']"
      ],
      "metadata": {
        "id": "GojkFvxhHDGl"
      },
      "execution_count": null,
      "outputs": []
    },
    {
      "cell_type": "code",
      "source": [
        "top4 = ['Real Madrid','Sevilla','Barcelona','Atlético Madrid']"
      ],
      "metadata": {
        "id": "DllkkvSQJDmA"
      },
      "execution_count": 76,
      "outputs": []
    },
    {
      "cell_type": "code",
      "source": [
        "subset_shooting = shooting[shooting['Squad'].isin(top4)]"
      ],
      "metadata": {
        "id": "r0-ohSLSJFU-"
      },
      "execution_count": 77,
      "outputs": []
    },
    {
      "cell_type": "code",
      "source": [
        "import matplotlib.pyplot as plt"
      ],
      "metadata": {
        "id": "rKzaskaFJMxW"
      },
      "execution_count": 79,
      "outputs": []
    },
    {
      "cell_type": "code",
      "source": [
        "plt.bar(subset_shooting['Squad'],subset_shooting['SoT'], color = 'red')\n",
        "plt.title('SoT figures by Team')\n",
        "plt.ylabel('SoT')"
      ],
      "metadata": {
        "colab": {
          "base_uri": "https://localhost:8080/",
          "height": 298
        },
        "id": "mYT8B2nnJK8h",
        "outputId": "a0c76a4e-238e-46df-f9bd-42da587eaa1d"
      },
      "execution_count": 81,
      "outputs": [
        {
          "output_type": "execute_result",
          "data": {
            "text/plain": [
              "Text(0, 0.5, 'SoT')"
            ]
          },
          "metadata": {},
          "execution_count": 81
        },
        {
          "output_type": "display_data",
          "data": {
            "text/plain": [
              "<Figure size 432x288 with 1 Axes>"
            ],
            "image/png": "[encoded data removed]"
          },
          "metadata": {
            "needs_background": "light"
          }
        }
      ]
    },
    {
      "cell_type": "code",
      "source": [
        "# no good result\n",
        "df_possession = pd.read_html('https://fbref.com/en/comps/12/possession/La-Liga-Stats')"
      ],
      "metadata": {
        "id": "iqKQa96gEmQU"
      },
      "execution_count": 82,
      "outputs": []
    },
    {
      "cell_type": "code",
      "source": [
        "for idx,table in enumerate(df_possession):\n",
        " print('***************************')\n",
        " print(idx)\n",
        " print(table)"
      ],
      "metadata": {
        "id": "ML7qlFnwFG4X"
      },
      "execution_count": null,
      "outputs": []
    },
    {
      "cell_type": "code",
      "source": [
        "df_possession = pd.DataFrame(df_possession[0])\n",
        "df_possession"
      ],
      "metadata": {
        "id": "70LKaQ97E49Y"
      },
      "execution_count": null,
      "outputs": []
    },
    {
      "cell_type": "code",
      "source": [
        "df_possession.columns = df_possession.columns.droplevel()"
      ],
      "metadata": {
        "id": "huDxnYWlJpkc"
      },
      "execution_count": 85,
      "outputs": []
    },
    {
      "cell_type": "code",
      "source": [
        "df_possession.columns"
      ],
      "metadata": {
        "id": "DfSSNbCPJo4V"
      },
      "execution_count": null,
      "outputs": []
    },
    {
      "cell_type": "code",
      "source": [
        "df_possession"
      ],
      "metadata": {
        "id": "L54xo2A_J5eS"
      },
      "execution_count": null,
      "outputs": []
    },
    {
      "cell_type": "code",
      "source": [
        "# can scrape it for other metrics"
      ],
      "metadata": {
        "id": "wN7eWO1vJ7Uh"
      },
      "execution_count": null,
      "outputs": []
    }
  ]
}