{
 "cells": [
  {
   "cell_type": "markdown",
   "metadata": {
    "id": "wtrQJLPcH-Tb"
   },
   "source": [
    "# Libraries"
   ]
  },
  {
   "cell_type": "code",
   "execution_count": 1,
   "metadata": {
    "id": "HiNwDK1aw0F8"
   },
   "outputs": [],
   "source": [
    "import pandas as pd\n",
    "import numpy as np\n",
    "import seaborn as sns\n",
    "import matplotlib.pyplot as plt\n",
    "\n",
    "import scipy\n",
    "import statsmodels as sm\n",
    "\n",
    "from pyjstat import pyjstat\n",
    "from ecbdata import ecbdata\n",
    "import requests\n",
    "\n",
    "from bs4 import BeautifulSoup\n",
    "import re\n",
    "\n",
    "from obiwan import *\n",
    "\n",
    "import os\n",
    "import warnings\n",
    "warnings.filterwarnings(\"ignore\")"
   ]
  },
  {
   "cell_type": "markdown",
   "metadata": {
    "id": "K4gyPh_wH-fK"
   },
   "source": [
    "# Load data"
   ]
  },
  {
   "cell_type": "markdown",
   "metadata": {
    "id": "HfDX9uOYw0F9"
   },
   "source": [
    "# Enquadramento do contexto"
   ]
  },
  {
   "cell_type": "code",
   "execution_count": 2,
   "metadata": {
    "id": "UEYgT3PqypDV"
   },
   "outputs": [],
   "source": [
    "series_id_dict = {\n",
    "    12587303: 'Custo dos financiamentos PME',\n",
    "    12587294: 'Rendibilidade do Ativo PME',\n",
    "    12458144: 'Endividamento das pequenas empresas não financeiras privadas',\n",
    "    12587298: 'Autonomia financeira PME',\n",
    "    12587273: 'Financiamentos obtidos PME'\n",
    "    }"
   ]
  },
  {
   "cell_type": "code",
   "execution_count": 3,
   "metadata": {
    "colab": {
     "base_uri": "https://localhost:8080/"
    },
    "id": "Km7kjVEk0Vg6",
    "outputId": "820f7e18-7f98-4cae-d004-678f8fa404fc"
   },
   "outputs": [
    {
     "data": {
      "text/plain": [
       "dict_keys([12587303, 12587294, 12458144, 12587298, 12587273])"
      ]
     },
     "execution_count": 3,
     "metadata": {},
     "output_type": "execute_result"
    }
   ],
   "source": [
    "series_id_dict.keys()"
   ]
  },
  {
   "cell_type": "code",
   "execution_count": 4,
   "metadata": {
    "colab": {
     "base_uri": "https://localhost:8080/"
    },
    "id": "24fOtvSA0dT7",
    "outputId": "b755cc88-6a94-4910-8827-98afc6631606"
   },
   "outputs": [
    {
     "data": {
      "text/plain": [
       "dict_values(['Custo dos financiamentos PME', 'Rendibilidade do Ativo PME', 'Endividamento das pequenas empresas não financeiras privadas', 'Autonomia financeira PME', 'Financiamentos obtidos PME'])"
      ]
     },
     "execution_count": 4,
     "metadata": {},
     "output_type": "execute_result"
    }
   ],
   "source": [
    "series_id_dict.values()"
   ]
  },
  {
   "cell_type": "code",
   "execution_count": 6,
   "metadata": {
    "colab": {
     "base_uri": "https://localhost:8080/",
     "height": 143
    },
    "id": "1PozBwy4w0F-",
    "outputId": "b75a2670-c054-46c8-d56e-27742c22ee4e"
   },
   "outputs": [
    {
     "data": {
      "text/html": [
       "<div>\n",
       "<style scoped>\n",
       "    .dataframe tbody tr th:only-of-type {\n",
       "        vertical-align: middle;\n",
       "    }\n",
       "\n",
       "    .dataframe tbody tr th {\n",
       "        vertical-align: top;\n",
       "    }\n",
       "\n",
       "    .dataframe thead th {\n",
       "        text-align: right;\n",
       "    }\n",
       "</style>\n",
       "<table border=\"1\" class=\"dataframe\">\n",
       "  <thead>\n",
       "    <tr style=\"text-align: right;\">\n",
       "      <th></th>\n",
       "      <th>Date</th>\n",
       "      <th>Custo dos financiamentos PME</th>\n",
       "    </tr>\n",
       "  </thead>\n",
       "  <tbody>\n",
       "    <tr>\n",
       "      <th>0</th>\n",
       "      <td>2006-12-31</td>\n",
       "      <td>4.6</td>\n",
       "    </tr>\n",
       "    <tr>\n",
       "      <th>1</th>\n",
       "      <td>2007-03-31</td>\n",
       "      <td>4.7</td>\n",
       "    </tr>\n",
       "    <tr>\n",
       "      <th>2</th>\n",
       "      <td>2007-06-30</td>\n",
       "      <td>4.9</td>\n",
       "    </tr>\n",
       "  </tbody>\n",
       "</table>\n",
       "</div>"
      ],
      "text/plain": [
       "        Date  Custo dos financiamentos PME\n",
       "0 2006-12-31                           4.6\n",
       "1 2007-03-31                           4.7\n",
       "2 2007-06-30                           4.9"
      ]
     },
     "execution_count": 6,
     "metadata": {},
     "output_type": "execute_result"
    }
   ],
   "source": [
    "series_id = 12587303\n",
    "#variable_name = None\n",
    "variable_name = series_id_dict[series_id]\n",
    "extract_data_from_bank_pt(series_id, variable_name).head(3)"
   ]
  },
  {
   "cell_type": "code",
   "execution_count": 7,
   "metadata": {
    "id": "3qoxF0Gfw0F_"
   },
   "outputs": [],
   "source": [
    "dfs_dict = {}\n",
    "\n",
    "for series_id, variable_name in series_id_dict.items():\n",
    "    dfs_dict[variable_name] = extract_data_from_bank_pt(series_id, variable_name)"
   ]
  },
  {
   "cell_type": "code",
   "execution_count": 8,
   "metadata": {
    "colab": {
     "base_uri": "https://localhost:8080/"
    },
    "id": "JAH9TjJX2cfj",
    "outputId": "eb4adaae-aa53-45cf-8c1d-0a204c586555"
   },
   "outputs": [
    {
     "data": {
      "text/plain": [
       "dict_keys(['Custo dos financiamentos PME', 'Rendibilidade do Ativo PME', 'Endividamento das pequenas empresas não financeiras privadas', 'Autonomia financeira PME', 'Financiamentos obtidos PME'])"
      ]
     },
     "execution_count": 8,
     "metadata": {},
     "output_type": "execute_result"
    }
   ],
   "source": [
    "dfs_dict.keys()"
   ]
  },
  {
   "cell_type": "code",
   "execution_count": 9,
   "metadata": {
    "colab": {
     "base_uri": "https://localhost:8080/",
     "height": 424
    },
    "id": "VoHRvqtY2hk_",
    "outputId": "e8102b7f-aa28-4063-e70f-2a772fd7beeb"
   },
   "outputs": [
    {
     "data": {
      "text/html": [
       "<div>\n",
       "<style scoped>\n",
       "    .dataframe tbody tr th:only-of-type {\n",
       "        vertical-align: middle;\n",
       "    }\n",
       "\n",
       "    .dataframe tbody tr th {\n",
       "        vertical-align: top;\n",
       "    }\n",
       "\n",
       "    .dataframe thead th {\n",
       "        text-align: right;\n",
       "    }\n",
       "</style>\n",
       "<table border=\"1\" class=\"dataframe\">\n",
       "  <thead>\n",
       "    <tr style=\"text-align: right;\">\n",
       "      <th></th>\n",
       "      <th>Date</th>\n",
       "      <th>Rendibilidade do Ativo PME</th>\n",
       "    </tr>\n",
       "  </thead>\n",
       "  <tbody>\n",
       "    <tr>\n",
       "      <th>0</th>\n",
       "      <td>2006-12-31</td>\n",
       "      <td>6.7</td>\n",
       "    </tr>\n",
       "    <tr>\n",
       "      <th>1</th>\n",
       "      <td>2007-03-31</td>\n",
       "      <td>7.4</td>\n",
       "    </tr>\n",
       "    <tr>\n",
       "      <th>2</th>\n",
       "      <td>2007-06-30</td>\n",
       "      <td>7.5</td>\n",
       "    </tr>\n",
       "    <tr>\n",
       "      <th>3</th>\n",
       "      <td>2007-09-30</td>\n",
       "      <td>8.0</td>\n",
       "    </tr>\n",
       "    <tr>\n",
       "      <th>4</th>\n",
       "      <td>2007-12-31</td>\n",
       "      <td>8.2</td>\n",
       "    </tr>\n",
       "    <tr>\n",
       "      <th>...</th>\n",
       "      <td>...</td>\n",
       "      <td>...</td>\n",
       "    </tr>\n",
       "    <tr>\n",
       "      <th>65</th>\n",
       "      <td>2023-03-31</td>\n",
       "      <td>8.1</td>\n",
       "    </tr>\n",
       "    <tr>\n",
       "      <th>66</th>\n",
       "      <td>2023-06-30</td>\n",
       "      <td>8.1</td>\n",
       "    </tr>\n",
       "    <tr>\n",
       "      <th>67</th>\n",
       "      <td>2023-09-30</td>\n",
       "      <td>8.0</td>\n",
       "    </tr>\n",
       "    <tr>\n",
       "      <th>68</th>\n",
       "      <td>2023-12-31</td>\n",
       "      <td>7.7</td>\n",
       "    </tr>\n",
       "    <tr>\n",
       "      <th>69</th>\n",
       "      <td>2024-03-31</td>\n",
       "      <td>7.4</td>\n",
       "    </tr>\n",
       "  </tbody>\n",
       "</table>\n",
       "<p>70 rows × 2 columns</p>\n",
       "</div>"
      ],
      "text/plain": [
       "         Date  Rendibilidade do Ativo PME\n",
       "0  2006-12-31                         6.7\n",
       "1  2007-03-31                         7.4\n",
       "2  2007-06-30                         7.5\n",
       "3  2007-09-30                         8.0\n",
       "4  2007-12-31                         8.2\n",
       "..        ...                         ...\n",
       "65 2023-03-31                         8.1\n",
       "66 2023-06-30                         8.1\n",
       "67 2023-09-30                         8.0\n",
       "68 2023-12-31                         7.7\n",
       "69 2024-03-31                         7.4\n",
       "\n",
       "[70 rows x 2 columns]"
      ]
     },
     "execution_count": 9,
     "metadata": {},
     "output_type": "execute_result"
    }
   ],
   "source": [
    "dfs_dict['Rendibilidade do Ativo PME']"
   ]
  },
  {
   "cell_type": "markdown",
   "metadata": {
    "id": "CCPpOiYK4JjQ"
   },
   "source": [
    "Extract manually the xls from the following URL:\n",
    "\n",
    "https://www.eba.europa.eu/risk-and-data-analysis/risk-analysis/risk-monitoring/risk-dashboard\n",
    "\n",
    "Excel auxiliar ao gráfico de parâmetros de risco da eba é realizado em:\n",
    "\n",
    "\tAnálise KRI - Risk parameters annex - Resumo que consta do seguinte caminho:Novo Banco S.A\\GVM Team - General\\08_benchmarking\\EBA\\Risk Parameters"
   ]
  },
  {
   "cell_type": "code",
   "execution_count": 10,
   "metadata": {
    "colab": {
     "base_uri": "https://localhost:8080/"
    },
    "id": "U9Z4Ops-4Iyn",
    "outputId": "d32fe1b5-b086-4bfd-efb6-95bfe6f410d3"
   },
   "outputs": [
    {
     "name": "stdout",
     "output_type": "stream",
     "text": [
      "File downloaded successfully as KRI - Risk parameters annex - Q4 2020.xlsx.\n",
      "\n",
      "\n",
      "If it'didnt downloaded the right file, please download it manually for the right specific year and quarter on the url below:\n",
      "      https://www.eba.europa.eu/risk-and-data-analysis/risk-analysis/risk-monitoring/risk-dashboard\n"
     ]
    }
   ],
   "source": [
    "KRI_analysis_risk_parameters_annex(2020)"
   ]
  },
  {
   "cell_type": "markdown",
   "metadata": {
    "id": "I-8irs7lH3k_"
   },
   "source": [
    "# Producing outputs"
   ]
  },
  {
   "cell_type": "code",
   "execution_count": 11,
   "metadata": {
    "id": "TBzaKY2-JOD7"
   },
   "outputs": [],
   "source": [
    "pd.set_option('display.max_columns', None)\n",
    "pd.set_option('display.max_rows', None)"
   ]
  },
  {
   "cell_type": "code",
   "execution_count": 12,
   "metadata": {
    "colab": {
     "base_uri": "https://localhost:8080/"
    },
    "id": "DFKUKPa7HxQo",
    "outputId": "33d6886f-dbb6-4f0c-807c-9f6c5361e5cc"
   },
   "outputs": [],
   "source": [
    "# df_base.columns"
   ]
  },
  {
   "cell_type": "markdown",
   "metadata": {},
   "source": [
    "# sheet LongRun_Data_Total (P)"
   ]
  },
  {
   "cell_type": "code",
   "execution_count": 13,
   "metadata": {},
   "outputs": [],
   "source": [
    "pd_list = [19.98, 0.40, 0.77, 1.23, 1.90, 2.94, 4.25, 7.68, 28.96, 12.08]"
   ]
  },
  {
   "cell_type": "code",
   "execution_count": 14,
   "metadata": {},
   "outputs": [],
   "source": [
    "drs = pd.read_csv('drs.csv')\n",
    "drs['data'] = drs['data'].astype(int)\n",
    "\n",
    "bons = pd.read_csv('bons.csv')\n",
    "bons['data'] = bons['data'].astype(int)\n",
    "\n",
    "defaults = pd.read_csv('defaults.csv')\n",
    "defaults['data'] = defaults['data'].astype(int)"
   ]
  },
  {
   "cell_type": "code",
   "execution_count": 15,
   "metadata": {},
   "outputs": [],
   "source": [
    "def get_first_four_digits(x):\n",
    "    return int(str(x)[:4])"
   ]
  },
  {
   "cell_type": "code",
   "execution_count": 16,
   "metadata": {},
   "outputs": [
    {
     "data": {
      "text/html": [
       "<div>\n",
       "<style scoped>\n",
       "    .dataframe tbody tr th:only-of-type {\n",
       "        vertical-align: middle;\n",
       "    }\n",
       "\n",
       "    .dataframe tbody tr th {\n",
       "        vertical-align: top;\n",
       "    }\n",
       "\n",
       "    .dataframe thead th {\n",
       "        text-align: right;\n",
       "    }\n",
       "</style>\n",
       "<table border=\"1\" class=\"dataframe\">\n",
       "  <thead>\n",
       "    <tr style=\"text-align: right;\">\n",
       "      <th></th>\n",
       "      <th>&lt;=500_1</th>\n",
       "      <th>&gt;500_Rated_1</th>\n",
       "      <th>&gt;500_Rated_2</th>\n",
       "      <th>&gt;500_Rated_3</th>\n",
       "      <th>&gt;500_Rated_4</th>\n",
       "      <th>&gt;500_Rated_5</th>\n",
       "      <th>&gt;500_Rated_6</th>\n",
       "      <th>&gt;500_Rated_7</th>\n",
       "      <th>&gt;500_Rated_8</th>\n",
       "      <th>&gt;500_Unrated_1</th>\n",
       "      <th>Rated &gt;500</th>\n",
       "      <th>TOTAL</th>\n",
       "    </tr>\n",
       "    <tr>\n",
       "      <th>year</th>\n",
       "      <th></th>\n",
       "      <th></th>\n",
       "      <th></th>\n",
       "      <th></th>\n",
       "      <th></th>\n",
       "      <th></th>\n",
       "      <th></th>\n",
       "      <th></th>\n",
       "      <th></th>\n",
       "      <th></th>\n",
       "      <th></th>\n",
       "      <th></th>\n",
       "    </tr>\n",
       "  </thead>\n",
       "  <tbody>\n",
       "    <tr>\n",
       "      <th>2010</th>\n",
       "      <td>1423.083333</td>\n",
       "      <td>2019.333333</td>\n",
       "      <td>1733.833333</td>\n",
       "      <td>2205.5</td>\n",
       "      <td>2340.083333</td>\n",
       "      <td>2284.583333</td>\n",
       "      <td>2898.250000</td>\n",
       "      <td>2449.416667</td>\n",
       "      <td>2115.583333</td>\n",
       "      <td>3570.916667</td>\n",
       "      <td>18046.583333</td>\n",
       "      <td>23040.583333</td>\n",
       "    </tr>\n",
       "    <tr>\n",
       "      <th>2011</th>\n",
       "      <td>1589.416667</td>\n",
       "      <td>2323.416667</td>\n",
       "      <td>1875.333333</td>\n",
       "      <td>2344.0</td>\n",
       "      <td>2355.833333</td>\n",
       "      <td>2217.500000</td>\n",
       "      <td>2676.833333</td>\n",
       "      <td>2151.583333</td>\n",
       "      <td>1995.750000</td>\n",
       "      <td>3278.000000</td>\n",
       "      <td>17940.250000</td>\n",
       "      <td>22807.666667</td>\n",
       "    </tr>\n",
       "  </tbody>\n",
       "</table>\n",
       "</div>"
      ],
      "text/plain": [
       "          <=500_1  >500_Rated_1  >500_Rated_2  >500_Rated_3  >500_Rated_4  \\\n",
       "year                                                                        \n",
       "2010  1423.083333   2019.333333   1733.833333        2205.5   2340.083333   \n",
       "2011  1589.416667   2323.416667   1875.333333        2344.0   2355.833333   \n",
       "\n",
       "      >500_Rated_5  >500_Rated_6  >500_Rated_7  >500_Rated_8  >500_Unrated_1  \\\n",
       "year                                                                           \n",
       "2010   2284.583333   2898.250000   2449.416667   2115.583333     3570.916667   \n",
       "2011   2217.500000   2676.833333   2151.583333   1995.750000     3278.000000   \n",
       "\n",
       "        Rated >500         TOTAL  \n",
       "year                              \n",
       "2010  18046.583333  23040.583333  \n",
       "2011  17940.250000  22807.666667  "
      ]
     },
     "execution_count": 16,
     "metadata": {},
     "output_type": "execute_result"
    }
   ],
   "source": [
    "df_bons_aux = bons\n",
    "df_bons_aux['year'] = df_bons_aux['data'].apply(get_first_four_digits)\n",
    "\n",
    "bons_yearly_avg_cardinalities = df_bons_aux.drop(columns=['data']).groupby('year').mean()#.round(1)\n",
    "bons_yearly_avg_cardinalities.head(2)"
   ]
  },
  {
   "cell_type": "code",
   "execution_count": 17,
   "metadata": {},
   "outputs": [
    {
     "data": {
      "text/html": [
       "<div>\n",
       "<style scoped>\n",
       "    .dataframe tbody tr th:only-of-type {\n",
       "        vertical-align: middle;\n",
       "    }\n",
       "\n",
       "    .dataframe tbody tr th {\n",
       "        vertical-align: top;\n",
       "    }\n",
       "\n",
       "    .dataframe thead th {\n",
       "        text-align: right;\n",
       "    }\n",
       "</style>\n",
       "<table border=\"1\" class=\"dataframe\">\n",
       "  <thead>\n",
       "    <tr style=\"text-align: right;\">\n",
       "      <th></th>\n",
       "      <th>&lt;=500_1</th>\n",
       "      <th>&gt;500_Rated_1</th>\n",
       "      <th>&gt;500_Rated_2</th>\n",
       "      <th>&gt;500_Rated_3</th>\n",
       "      <th>&gt;500_Rated_4</th>\n",
       "      <th>&gt;500_Rated_5</th>\n",
       "      <th>&gt;500_Rated_6</th>\n",
       "      <th>&gt;500_Rated_7</th>\n",
       "      <th>&gt;500_Rated_8</th>\n",
       "      <th>&gt;500_Unrated_1</th>\n",
       "      <th>Rated &gt;500</th>\n",
       "      <th>TOTAL</th>\n",
       "    </tr>\n",
       "    <tr>\n",
       "      <th>year</th>\n",
       "      <th></th>\n",
       "      <th></th>\n",
       "      <th></th>\n",
       "      <th></th>\n",
       "      <th></th>\n",
       "      <th></th>\n",
       "      <th></th>\n",
       "      <th></th>\n",
       "      <th></th>\n",
       "      <th></th>\n",
       "      <th></th>\n",
       "      <th></th>\n",
       "    </tr>\n",
       "  </thead>\n",
       "  <tbody>\n",
       "    <tr>\n",
       "      <th>2010</th>\n",
       "      <td>104.25</td>\n",
       "      <td>5.666667</td>\n",
       "      <td>13.083333</td>\n",
       "      <td>27.166667</td>\n",
       "      <td>42.583333</td>\n",
       "      <td>62.833333</td>\n",
       "      <td>122.75</td>\n",
       "      <td>160.916667</td>\n",
       "      <td>530.333333</td>\n",
       "      <td>254.25</td>\n",
       "      <td>965.333333</td>\n",
       "      <td>1323.833333</td>\n",
       "    </tr>\n",
       "    <tr>\n",
       "      <th>2011</th>\n",
       "      <td>161.75</td>\n",
       "      <td>10.583333</td>\n",
       "      <td>19.666667</td>\n",
       "      <td>49.083333</td>\n",
       "      <td>75.583333</td>\n",
       "      <td>100.833333</td>\n",
       "      <td>166.25</td>\n",
       "      <td>208.583333</td>\n",
       "      <td>643.666667</td>\n",
       "      <td>268.75</td>\n",
       "      <td>1274.250000</td>\n",
       "      <td>1704.750000</td>\n",
       "    </tr>\n",
       "  </tbody>\n",
       "</table>\n",
       "</div>"
      ],
      "text/plain": [
       "      <=500_1  >500_Rated_1  >500_Rated_2  >500_Rated_3  >500_Rated_4  \\\n",
       "year                                                                    \n",
       "2010   104.25      5.666667     13.083333     27.166667     42.583333   \n",
       "2011   161.75     10.583333     19.666667     49.083333     75.583333   \n",
       "\n",
       "      >500_Rated_5  >500_Rated_6  >500_Rated_7  >500_Rated_8  >500_Unrated_1  \\\n",
       "year                                                                           \n",
       "2010     62.833333        122.75    160.916667    530.333333          254.25   \n",
       "2011    100.833333        166.25    208.583333    643.666667          268.75   \n",
       "\n",
       "       Rated >500        TOTAL  \n",
       "year                            \n",
       "2010   965.333333  1323.833333  \n",
       "2011  1274.250000  1704.750000  "
      ]
     },
     "execution_count": 17,
     "metadata": {},
     "output_type": "execute_result"
    }
   ],
   "source": [
    "df_defaults_aux = defaults\n",
    "df_defaults_aux['year'] = df_defaults_aux['data'].apply(get_first_four_digits)\n",
    "\n",
    "defaults_yearly_avg_cardinalities = df_defaults_aux.drop(columns=['data']).groupby('year').mean()#.round(1).astype(int)\n",
    "defaults_yearly_avg_cardinalities.head(2)"
   ]
  },
  {
   "cell_type": "code",
   "execution_count": 18,
   "metadata": {},
   "outputs": [
    {
     "data": {
      "text/html": [
       "<div>\n",
       "<style scoped>\n",
       "    .dataframe tbody tr th:only-of-type {\n",
       "        vertical-align: middle;\n",
       "    }\n",
       "\n",
       "    .dataframe tbody tr th {\n",
       "        vertical-align: top;\n",
       "    }\n",
       "\n",
       "    .dataframe thead th {\n",
       "        text-align: right;\n",
       "    }\n",
       "</style>\n",
       "<table border=\"1\" class=\"dataframe\">\n",
       "  <thead>\n",
       "    <tr style=\"text-align: right;\">\n",
       "      <th></th>\n",
       "      <th>&lt;=500_1</th>\n",
       "      <th>&gt;500_Rated_1</th>\n",
       "      <th>&gt;500_Rated_2</th>\n",
       "      <th>&gt;500_Rated_3</th>\n",
       "      <th>&gt;500_Rated_4</th>\n",
       "      <th>&gt;500_Rated_5</th>\n",
       "      <th>&gt;500_Rated_6</th>\n",
       "      <th>&gt;500_Rated_7</th>\n",
       "      <th>&gt;500_Rated_8</th>\n",
       "      <th>&gt;500_Unrated_1</th>\n",
       "      <th>Rated &gt;500</th>\n",
       "      <th>TOTAL</th>\n",
       "    </tr>\n",
       "    <tr>\n",
       "      <th>year</th>\n",
       "      <th></th>\n",
       "      <th></th>\n",
       "      <th></th>\n",
       "      <th></th>\n",
       "      <th></th>\n",
       "      <th></th>\n",
       "      <th></th>\n",
       "      <th></th>\n",
       "      <th></th>\n",
       "      <th></th>\n",
       "      <th></th>\n",
       "      <th></th>\n",
       "    </tr>\n",
       "  </thead>\n",
       "  <tbody>\n",
       "    <tr>\n",
       "      <th>2010</th>\n",
       "      <td>7.325643</td>\n",
       "      <td>0.280621</td>\n",
       "      <td>0.754590</td>\n",
       "      <td>1.231769</td>\n",
       "      <td>1.819736</td>\n",
       "      <td>2.750319</td>\n",
       "      <td>4.235314</td>\n",
       "      <td>6.569591</td>\n",
       "      <td>25.067948</td>\n",
       "      <td>7.120021</td>\n",
       "      <td>5.349120</td>\n",
       "      <td>5.745659</td>\n",
       "    </tr>\n",
       "    <tr>\n",
       "      <th>2011</th>\n",
       "      <td>10.176690</td>\n",
       "      <td>0.455507</td>\n",
       "      <td>1.048702</td>\n",
       "      <td>2.093999</td>\n",
       "      <td>3.208348</td>\n",
       "      <td>4.547163</td>\n",
       "      <td>6.210697</td>\n",
       "      <td>9.694411</td>\n",
       "      <td>32.251869</td>\n",
       "      <td>8.198597</td>\n",
       "      <td>7.102744</td>\n",
       "      <td>7.474460</td>\n",
       "    </tr>\n",
       "    <tr>\n",
       "      <th>2012</th>\n",
       "      <td>9.886259</td>\n",
       "      <td>0.374545</td>\n",
       "      <td>1.196183</td>\n",
       "      <td>2.059545</td>\n",
       "      <td>2.651086</td>\n",
       "      <td>3.432936</td>\n",
       "      <td>5.401140</td>\n",
       "      <td>8.412949</td>\n",
       "      <td>28.803132</td>\n",
       "      <td>8.480824</td>\n",
       "      <td>6.354363</td>\n",
       "      <td>7.044373</td>\n",
       "    </tr>\n",
       "    <tr>\n",
       "      <th>2013</th>\n",
       "      <td>8.006587</td>\n",
       "      <td>0.318672</td>\n",
       "      <td>0.724367</td>\n",
       "      <td>1.007517</td>\n",
       "      <td>1.559493</td>\n",
       "      <td>2.830229</td>\n",
       "      <td>3.371807</td>\n",
       "      <td>5.315486</td>\n",
       "      <td>20.798927</td>\n",
       "      <td>7.668397</td>\n",
       "      <td>4.407420</td>\n",
       "      <td>5.264727</td>\n",
       "    </tr>\n",
       "    <tr>\n",
       "      <th>2014</th>\n",
       "      <td>7.691293</td>\n",
       "      <td>0.361470</td>\n",
       "      <td>0.631377</td>\n",
       "      <td>0.730316</td>\n",
       "      <td>1.044646</td>\n",
       "      <td>1.688428</td>\n",
       "      <td>2.699233</td>\n",
       "      <td>5.566704</td>\n",
       "      <td>20.485845</td>\n",
       "      <td>8.635097</td>\n",
       "      <td>4.015700</td>\n",
       "      <td>5.028894</td>\n",
       "    </tr>\n",
       "  </tbody>\n",
       "</table>\n",
       "</div>"
      ],
      "text/plain": [
       "        <=500_1  >500_Rated_1  >500_Rated_2  >500_Rated_3  >500_Rated_4  \\\n",
       "year                                                                      \n",
       "2010   7.325643      0.280621      0.754590      1.231769      1.819736   \n",
       "2011  10.176690      0.455507      1.048702      2.093999      3.208348   \n",
       "2012   9.886259      0.374545      1.196183      2.059545      2.651086   \n",
       "2013   8.006587      0.318672      0.724367      1.007517      1.559493   \n",
       "2014   7.691293      0.361470      0.631377      0.730316      1.044646   \n",
       "\n",
       "      >500_Rated_5  >500_Rated_6  >500_Rated_7  >500_Rated_8  >500_Unrated_1  \\\n",
       "year                                                                           \n",
       "2010      2.750319      4.235314      6.569591     25.067948        7.120021   \n",
       "2011      4.547163      6.210697      9.694411     32.251869        8.198597   \n",
       "2012      3.432936      5.401140      8.412949     28.803132        8.480824   \n",
       "2013      2.830229      3.371807      5.315486     20.798927        7.668397   \n",
       "2014      1.688428      2.699233      5.566704     20.485845        8.635097   \n",
       "\n",
       "      Rated >500     TOTAL  \n",
       "year                        \n",
       "2010    5.349120  5.745659  \n",
       "2011    7.102744  7.474460  \n",
       "2012    6.354363  7.044373  \n",
       "2013    4.407420  5.264727  \n",
       "2014    4.015700  5.028894  "
      ]
     },
     "execution_count": 18,
     "metadata": {},
     "output_type": "execute_result"
    }
   ],
   "source": [
    "drs_avg_yearly = (defaults_yearly_avg_cardinalities / bons_yearly_avg_cardinalities).fillna(0)*100\n",
    "drs_avg_yearly.head()"
   ]
  },
  {
   "cell_type": "code",
   "execution_count": 19,
   "metadata": {},
   "outputs": [],
   "source": [
    "bons_yearly_avg_cardinalities = bons_yearly_avg_cardinalities.reset_index()\n",
    "drs_avg_yearly = drs_avg_yearly.reset_index()\n",
    "defaults_yearly_avg_cardinalities = defaults_yearly_avg_cardinalities.reset_index()"
   ]
  },
  {
   "cell_type": "code",
   "execution_count": 20,
   "metadata": {},
   "outputs": [],
   "source": [
    "df_summary = pd.DataFrame({'Average Obs': bons_yearly_avg_cardinalities[bons_yearly_avg_cardinalities['year'] > 2010].mean()})"
   ]
  },
  {
   "cell_type": "code",
   "execution_count": 21,
   "metadata": {},
   "outputs": [],
   "source": [
    "df_summary['Average Dfts'] = defaults_yearly_avg_cardinalities[defaults_yearly_avg_cardinalities['year'] > 2010].mean()"
   ]
  },
  {
   "cell_type": "code",
   "execution_count": 22,
   "metadata": {},
   "outputs": [],
   "source": [
    "df_summary['Average DR'] = drs_avg_yearly[drs_avg_yearly['year'] > 2010].mean()"
   ]
  },
  {
   "cell_type": "code",
   "execution_count": 23,
   "metadata": {},
   "outputs": [
    {
     "data": {
      "text/html": [
       "<div>\n",
       "<style scoped>\n",
       "    .dataframe tbody tr th:only-of-type {\n",
       "        vertical-align: middle;\n",
       "    }\n",
       "\n",
       "    .dataframe tbody tr th {\n",
       "        vertical-align: top;\n",
       "    }\n",
       "\n",
       "    .dataframe thead th {\n",
       "        text-align: right;\n",
       "    }\n",
       "</style>\n",
       "<table border=\"1\" class=\"dataframe\">\n",
       "  <thead>\n",
       "    <tr style=\"text-align: right;\">\n",
       "      <th></th>\n",
       "      <th>Average Obs</th>\n",
       "      <th>Average Dfts</th>\n",
       "      <th>Average DR</th>\n",
       "    </tr>\n",
       "  </thead>\n",
       "  <tbody>\n",
       "    <tr>\n",
       "      <th>year</th>\n",
       "      <td>2016.500000</td>\n",
       "      <td>2016.500000</td>\n",
       "      <td>2016.500000</td>\n",
       "    </tr>\n",
       "    <tr>\n",
       "      <th>&lt;=500_1</th>\n",
       "      <td>2281.691288</td>\n",
       "      <td>238.744318</td>\n",
       "      <td>10.871002</td>\n",
       "    </tr>\n",
       "    <tr>\n",
       "      <th>&gt;500_Rated_1</th>\n",
       "      <td>2291.834596</td>\n",
       "      <td>4.474242</td>\n",
       "      <td>0.197353</td>\n",
       "    </tr>\n",
       "    <tr>\n",
       "      <th>&gt;500_Rated_2</th>\n",
       "      <td>1779.847077</td>\n",
       "      <td>8.223970</td>\n",
       "      <td>0.457180</td>\n",
       "    </tr>\n",
       "    <tr>\n",
       "      <th>&gt;500_Rated_3</th>\n",
       "      <td>2214.363102</td>\n",
       "      <td>17.515346</td>\n",
       "      <td>0.784279</td>\n",
       "    </tr>\n",
       "    <tr>\n",
       "      <th>&gt;500_Rated_4</th>\n",
       "      <td>2228.677448</td>\n",
       "      <td>24.909188</td>\n",
       "      <td>1.117255</td>\n",
       "    </tr>\n",
       "    <tr>\n",
       "      <th>&gt;500_Rated_5</th>\n",
       "      <td>2049.760975</td>\n",
       "      <td>37.078040</td>\n",
       "      <td>1.798664</td>\n",
       "    </tr>\n",
       "    <tr>\n",
       "      <th>&gt;500_Rated_6</th>\n",
       "      <td>2401.881410</td>\n",
       "      <td>62.506265</td>\n",
       "      <td>2.529695</td>\n",
       "    </tr>\n",
       "    <tr>\n",
       "      <th>&gt;500_Rated_7</th>\n",
       "      <td>1783.989850</td>\n",
       "      <td>89.217754</td>\n",
       "      <td>4.722678</td>\n",
       "    </tr>\n",
       "    <tr>\n",
       "      <th>&gt;500_Rated_8</th>\n",
       "      <td>1207.534916</td>\n",
       "      <td>261.649136</td>\n",
       "      <td>19.577531</td>\n",
       "    </tr>\n",
       "    <tr>\n",
       "      <th>&gt;500_Unrated_1</th>\n",
       "      <td>2787.102710</td>\n",
       "      <td>143.948669</td>\n",
       "      <td>5.303806</td>\n",
       "    </tr>\n",
       "    <tr>\n",
       "      <th>Rated &gt;500</th>\n",
       "      <td>15957.889375</td>\n",
       "      <td>505.459839</td>\n",
       "      <td>3.069938</td>\n",
       "    </tr>\n",
       "    <tr>\n",
       "      <th>TOTAL</th>\n",
       "      <td>21026.683372</td>\n",
       "      <td>888.152826</td>\n",
       "      <td>4.148948</td>\n",
       "    </tr>\n",
       "  </tbody>\n",
       "</table>\n",
       "</div>"
      ],
      "text/plain": [
       "                 Average Obs  Average Dfts   Average DR\n",
       "year             2016.500000   2016.500000  2016.500000\n",
       "<=500_1          2281.691288    238.744318    10.871002\n",
       ">500_Rated_1     2291.834596      4.474242     0.197353\n",
       ">500_Rated_2     1779.847077      8.223970     0.457180\n",
       ">500_Rated_3     2214.363102     17.515346     0.784279\n",
       ">500_Rated_4     2228.677448     24.909188     1.117255\n",
       ">500_Rated_5     2049.760975     37.078040     1.798664\n",
       ">500_Rated_6     2401.881410     62.506265     2.529695\n",
       ">500_Rated_7     1783.989850     89.217754     4.722678\n",
       ">500_Rated_8     1207.534916    261.649136    19.577531\n",
       ">500_Unrated_1   2787.102710    143.948669     5.303806\n",
       "Rated >500      15957.889375    505.459839     3.069938\n",
       "TOTAL           21026.683372    888.152826     4.148948"
      ]
     },
     "execution_count": 23,
     "metadata": {},
     "output_type": "execute_result"
    }
   ],
   "source": [
    "df_summary"
   ]
  }
 ],
 "metadata": {
  "colab": {
   "provenance": []
  },
  "kernelspec": {
   "display_name": "Python 3",
   "language": "python",
   "name": "python3"
  },
  "language_info": {
   "codemirror_mode": {
    "name": "ipython",
    "version": 3
   },
   "file_extension": ".py",
   "mimetype": "text/x-python",
   "name": "python",
   "nbconvert_exporter": "python",
   "pygments_lexer": "ipython3",
   "version": "3.8.5"
  }
 },
 "nbformat": 4,
 "nbformat_minor": 1
}
