{
  "nbformat": 4,
  "nbformat_minor": 0,
  "metadata": {
    "colab": {
      "provenance": [],
      "collapsed_sections": []
    },
    "kernelspec": {
      "name": "python3",
      "display_name": "Python 3"
    },
    "language_info": {
      "name": "python"
    }
  },
  "cells": [
    {
      "cell_type": "code",
      "execution_count": null,
      "metadata": {
        "id": "1ZmBe_njEYAm"
      },
      "outputs": [],
      "source": [
        "import pandas as pd\n",
        "#bbc.com/sport/football/portuguese-primeira-liga/table\n",
        "prem_table = pd.read_html('https://www.bbc.co.uk/sport/football/premier-league/table')\n",
        "Premier_table = prem_table[0]\n",
        "\n",
        "print(len(prem_table))\n",
        "print(type(prem_table))\n",
        "\n",
        "print(Premier_table.head(6))\n"
      ]
    },
    {
      "cell_type": "code",
      "source": [
        "Premier_table.columns\n",
        "Premier_table\n"
      ],
      "metadata": {
        "id": "BeRMJwXDEf03"
      },
      "execution_count": null,
      "outputs": []
    },
    {
      "cell_type": "code",
      "source": [
        "Premier_table['Goal Ratio'] = Premier_table['Goals For'] / Premier_table['Goals Against'] "
      ],
      "metadata": {
        "id": "Cl1wuD_rF6HL"
      },
      "execution_count": 7,
      "outputs": []
    },
    {
      "cell_type": "code",
      "source": [
        "Premier_table['Goals/game'] = round((Premier_table['Goals For'] / Premier_table['Played']), 1)\n",
        "Premier_table['Goals conceded/game'] = round((Premier_table['Goals Against'] / Premier_table['Played']), 1)\n",
        "Premier_table.sort_values(['Goals/game', 'Goal Ratio']).head(5)"
      ],
      "metadata": {
        "id": "whraOC6QFxgh"
      },
      "execution_count": null,
      "outputs": []
    }
  ]
}